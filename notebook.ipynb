{
 "cells": [
  {
   "cell_type": "code",
   "execution_count": 1,
   "metadata": {},
   "outputs": [
    {
     "data": {
      "text/plain": [
       "b'\\x00\\x00\\x00\\x00\\x00\\x00\\x00\\x01_\\x00\\x00\\x00\\x00\\x00\\x00\\x00\\x02'"
      ]
     },
     "execution_count": 1,
     "metadata": {},
     "output_type": "execute_result"
    }
   ],
   "source": [
    "asset_a = 1\n",
    "asset_b = 2\n",
    "\n",
    "b_a_a = asset_a.to_bytes(8, 'big')\n",
    "b_a_b = asset_b.to_bytes(8, 'big')\n",
    "b_a_a + b\"_\" + b_a_b"
   ]
  },
  {
   "cell_type": "code",
   "execution_count": 2,
   "metadata": {},
   "outputs": [
    {
     "name": "stdout",
     "output_type": "stream",
     "text": [
      "hundred awful fish wisdom connect strong rabbit cool globe couch live nature private piano please also flee during pulse split hotel route club ability envelope\n",
      "GXXBYYQE22VJBWBB5IWW24RIGF5IEXQFLYO3YG6T3LIDJEI5NY6ITUIQ74\n",
      "shuffle degree flower market airport mean team else bargain gun ozone side awake eagle section attract medal enforce industry loyal wreck blind thumb above hidden\n",
      "KU366GBUATVZVUVFRP2HP7UKFGQZ2KNCQBMGBAN5H3G5RW2E74MNG4MWN4\n",
      "because before bar into note grit ship jelly hollow beauty zebra foster salad popular obtain strike burden royal safe town unit distance better abstract bike\n",
      "37Y3GMJ5JDJVZFPIYXFWJ466ILINI2BK7XE2F5HVLOPZ2DFYKYEWOYZKFM\n"
     ]
    }
   ],
   "source": [
    "from algox.sandbox import get_genesis_accounts\n",
    "\n",
    "accounts = get_genesis_accounts()\n",
    "for account in accounts:\n",
    "    print(account.get_mnemonic())\n",
    "    print(account.get_address())"
   ]
  },
  {
   "cell_type": "code",
   "execution_count": 3,
   "metadata": {},
   "outputs": [],
   "source": [
    "import os\n",
    "import dotenv\n",
    "\n",
    "from algox.utils import get_algod_client, fully_compile_contract\n",
    "from algox.operations import get_pool_contracts\n",
    "\n",
    "dotenv.load_dotenv('.env')\n",
    "    \n",
    "algod_url = os.environ.get(\"ALGOD_URL\")\n",
    "algod_api_key = os.environ.get(\"ALGOD_API_KEY\")\n",
    "\n",
    "client = get_algod_client(algod_url, algod_api_key)\n",
    "\n",
    "approval, clear = get_pool_contracts(client, 0, 0)"
   ]
  },
  {
   "cell_type": "code",
   "execution_count": 4,
   "metadata": {},
   "outputs": [
    {
     "name": "stdout",
     "output_type": "stream",
     "text": [
      "b'\\x06 \\t\\x01\\x00\\x04\\x06\\x03\\xe8\\x07\\x80\\xc8\\xaf\\xa0%\\x05\\x02&\\x05\\x01a\\x01b\\x03set\\x01p\\x03gov1\\x18#\\x12@\\x03%1\\x19!\\x07\\x121\\x19$\\x12\\x11@\\x03\\x111\\x19!\\x08\\x12@\\x03\\x071\\x19\"\\x12@\\x02\\xfe1\\x19#\\x12@\\x00\\x01\\x006\\x1a\\x00\\x80\\x04mint\\x12@\\x0216\\x1a\\x00\\x80\\x04burn\\x12@\\x01\\x9e6\\x1a\\x00\\x80\\x04swap\\x12@\\x01\\r6\\x1a\\x00\\x80\\x04boot\\x12@\\x00\\xc86\\x1a\\x00\\x80\\x04fund\\x12@\\x00J6\\x1a\\x00\\x80\\x06update\\x12@\\x00,6\\x1a\\x00*\\x12@\\x00\\x01\\x00\\'\\x04d1\\x00\\x1260\\x0060\\x01\\x0c\\x10*d#\\x12\\x10D(60\\x00g)60\\x01g*\"g\"C\\'\\x04d1\\x00\\x12D\\'\\x046\\x1c\\x01g\"C*d\"\\x12D2\\x04!\\x04\\x123\\x00\\x10%\\x12\\x1060\\x00(d\\x1260\\x01)d\\x12\\x1060\\x02+d\\x12\\x10\\x103\\x01\\x10$\\x12\\x103\\x01\\x11(d\\x12\\x103\\x01\\x12#\\r\\x103\\x01\\x003\\x00\\x00\\x12\\x103\\x02\\x10$\\x12\\x103\\x02\\x11)d\\x12\\x103\\x02\\x12#\\r\\x103\\x02\\x003\\x00\\x00\\x12\\x10D3\\x00\\x00+d3\\x01\\x123\\x02\\x12\\x0b\\x92!\\x05\\t\\x88\\x02\\x17\"C*d\"\\x12D2\\x04\"\\x123\\x00\\x10%\\x12\\x1060\\x00(d\\x1260\\x01)d\\x12\\x10\\x10D\\'\\x04d1\\x00\\x12D(d)d\\x88\\x02\\x0c(d\\x88\\x01\\xfc)d\\x88\\x01\\xf7\"C*d\"\\x12D2\\n3\\x01\\x11p\\x005\\x0c5\\r2\\n3\\x01\\x11(d\\x12@\\x00d(dp\\x005\\x0e5\\x0f2\\x04!\\x08\\x1260\\x00(d\\x1260\\x01)d\\x12\\x10\\x103\\x00\\x10%\\x12\\x103\\x01\\x10$\\x12\\x103\\x01\\x11(d\\x123\\x01\\x11)d\\x12\\x11\\x103\\x01\\x12#\\r\\x10D4\\x0c4\\x0e\\x10D3\\x01\\x003\\x01\\x11(d\\x12@\\x00\\x11(d3\\x01\\x124\\r4\\x0f\\x88\\x02\\x0b\\x88\\x01e\"C)dB\\xff\\xec)dB\\xff\\x99*d\"\\x12D2\\n+dp\\x005\\x065\\x072\\n(dp\\x005\\x085\\t2\\n)dp\\x005\\n5\\x0b2\\x04!\\x08\\x1260\\x00(d\\x1260\\x01)d\\x12\\x10\\x103\\x00\\x10%\\x12\\x103\\x01\\x10$\\x12\\x103\\x01\\x142\\n\\x12\\x103\\x01\\x11+d\\x12\\x10D4\\x064\\x08\\x104\\n\\x10D3\\x01\\x00(d!\\x064\\x07\\t4\\t3\\x01\\x12\\x88\\x01\\x81\\x88\\x00\\xea3\\x01\\x00)d!\\x064\\x07\\t4\\x0b3\\x01\\x12\\x88\\x01l\\x88\\x00\\xd5\"C*d\"\\x12D2\\n+dp\\x005\\x005\\x012\\n(dp\\x005\\x025\\x032\\n)dp\\x005\\x045\\x052\\x04!\\x04\\x1260\\x00(d\\x1260\\x01)d\\x12\\x10\\x103\\x00\\x10%\\x12\\x107\\x000\\x003\\x01\\x11\\x12\\x107\\x000\\x013\\x02\\x11\\x12\\x103\\x01\\x10$\\x12\\x103\\x01\\x142\\n\\x12\\x103\\x01\\x11(d\\x12\\x103\\x01\\x12#\\r\\x103\\x01\\x003\\x00\\x00\\x12\\x103\\x02\\x10$\\x12\\x103\\x02\\x142\\n\\x12\\x103\\x02\\x11)d\\x12\\x103\\x02\\x12#\\r\\x103\\x02\\x003\\x00\\x00\\x12\\x10D4\\x004\\x02\\x104\\x04\\x10D3\\x00\\x00+d!\\x064\\x01\\t4\\x034\\x053\\x01\\x123\\x02\\x12\\x88\\x00\\x8b\\x88\\x00\\x1d\"C#C\"C\\'\\x04d1\\x00\\x12C\\'\\x041\\x00g(#g)#g*#g\"C5\\x125\\x115\\x10\\xb1$\\xb2\\x104\\x11\\xb2\\x114\\x12\\xb2\\x124\\x10\\xb2\\x14\\xb3\\x895\\x132\\n4\\x13#\\x88\\xff\\xde\\x895\\x155\\x144\\x14q\\x035\\x165\\x174\\x15q\\x035\\x185\\x19\\xb1!\\x04\\xb2\\x10\\x80\\x04DPT-4\\x17P\\x80\\x01-P4\\x19P\\xb2&\\x80\\x03dpt\\xb2%!\\x06\\xb2\"!\\x04\\xb2#2\\n\\xb2)2\\n\\xb2*\\xb3+\\xb4<g\\x895\\x1e5\\x1d5\\x1c5\\x1b5\\x1a4\\x1d4\\x1b\\n4\\x1e4\\x1c\\n\\x0c@\\x00\\x084\\x1e4\\x1c\\nB\\x00\\x054\\x1d4\\x1b\\n4\\x1a\\x0b\\x895!5 5\\x1f4 4!4\\x1f\\n\\x0b\\x895$5#5\"4\"!\\x05!\\x07\\t\\x0b4$\\x0b4#!\\x05\\x0b4\"!\\x05!\\x07\\t\\x0b\\x08\\n\\x89'\n"
     ]
    }
   ],
   "source": [
    "print(approval)"
   ]
  },
  {
   "cell_type": "code",
   "execution_count": 5,
   "metadata": {},
   "outputs": [
    {
     "name": "stdout",
     "output_type": "stream",
     "text": [
      "b'\\x06\\x81\\x01C'\n"
     ]
    }
   ],
   "source": [
    "print(clear)"
   ]
  },
  {
   "cell_type": "code",
   "execution_count": 6,
   "metadata": {},
   "outputs": [
    {
     "data": {
      "text/plain": [
       "b'\\x01 \\x06\\x00\\x00\\x00\\x01\\xe8\\x07\\x80\\xc8\\xaf\\xa0%'"
      ]
     },
     "execution_count": 6,
     "metadata": {},
     "output_type": "execute_result"
    }
   ],
   "source": [
    "fully_compile_contract(client, \"intcblock 0 0 0 1 1000 10000000000\")"
   ]
  }
 ],
 "metadata": {
  "interpreter": {
   "hash": "daf6a1097229c2f5e0ecb83d70d15de79f27be0ff1ecfdb11fee77ee4d5b04f4"
  },
  "kernelspec": {
   "display_name": "Python 3.9.10 64-bit ('venv': venv)",
   "language": "python",
   "name": "python3"
  },
  "language_info": {
   "codemirror_mode": {
    "name": "ipython",
    "version": 3
   },
   "file_extension": ".py",
   "mimetype": "text/x-python",
   "name": "python",
   "nbconvert_exporter": "python",
   "pygments_lexer": "ipython3",
   "version": "3.9.10"
  },
  "orig_nbformat": 4
 },
 "nbformat": 4,
 "nbformat_minor": 2
}
